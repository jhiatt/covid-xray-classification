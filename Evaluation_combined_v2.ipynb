{
 "cells": [
  {
   "cell_type": "code",
   "execution_count": 1,
   "metadata": {},
   "outputs": [],
   "source": [
    "import sys\n",
    "import sklearn\n",
    "import os\n",
    "import numpy as np\n",
    "import pandas as pd\n",
    "import matplotlib as mpl\n",
    "import matplotlib.pyplot as plt\n",
    "from functools import partial\n",
    "import PIL\n",
    "import PIL.Image\n",
    "import random as python_random\n",
    "import seaborn as sns\n",
    "\n",
    "import tensorflow as tf\n",
    "from tensorflow import keras\n",
    "from keras.preprocessing.image import ImageDataGenerator\n",
    "\n",
    "import warnings\n",
    "warnings.simplefilter(action='ignore', category=FutureWarning)\n",
    "\n",
    "np.random.seed(40) # note that you must use the same seed to ensure consistentcy in your training/validation/testing\n",
    "tf.random.set_seed(40)"
   ]
  },
  {
   "cell_type": "markdown",
   "metadata": {},
   "source": [
    "# Load the Data"
   ]
  },
  {
   "cell_type": "code",
   "execution_count": 3,
   "metadata": {},
   "outputs": [
    {
     "name": "stdout",
     "output_type": "stream",
     "text": [
      "Found 13633 files belonging to 3 classes.\n",
      "Using 2726 files for validation.\n",
      "Found 1514 files belonging to 3 classes.\n",
      "Found 13633 files belonging to 3 classes.\n",
      "Using 2726 files for validation.\n",
      "Found 1514 files belonging to 3 classes.\n"
     ]
    }
   ],
   "source": [
    "HOLD_dir = \"dl_data_2/HOLD_data\"\n",
    "test_dir = \"dl_data_2/dl_data\"\n",
    "class_names = ['Covid', 'Normal', 'Viral']\n",
    "\n",
    "batch_size = 8;\n",
    "# IMPORTANT: Depends on what pre-trained model you choose, you will need to change these dimensions accordingly\n",
    "img_height = 244; \n",
    "img_width = 244;\n",
    "\n",
    "img_height_dense = 224; \n",
    "img_width_dense = 224;\n",
    "\n",
    "# Test Dataset\n",
    "test_ds = tf.keras.preprocessing.image_dataset_from_directory(\n",
    "    test_dir,\n",
    "    validation_split = 0.2,\n",
    "    subset = \"validation\",\n",
    "    seed = 40,\n",
    "    image_size= (img_height, img_width),\n",
    "    batch_size = batch_size\n",
    ")\n",
    "\n",
    "# Holdout Dataset\n",
    "HOLD_ds = tf.keras.preprocessing.image_dataset_from_directory(\n",
    "    HOLD_dir,\n",
    "    seed = 40,\n",
    "    image_size= (img_height, img_width),\n",
    "    batch_size = batch_size\n",
    ")\n",
    "\n",
    "# Test Dataset DENSE\n",
    "test_ds_dense = tf.keras.preprocessing.image_dataset_from_directory(\n",
    "    test_dir,\n",
    "    validation_split = 0.2,\n",
    "    subset = \"validation\",\n",
    "    seed = 40,\n",
    "    image_size= (img_height_dense, img_width_dense),\n",
    "    batch_size = batch_size\n",
    ")\n",
    "\n",
    "# Holdout Dataset DENSE\n",
    "HOLD_ds_dense = tf.keras.preprocessing.image_dataset_from_directory(\n",
    "    HOLD_dir,\n",
    "    seed = 40,\n",
    "    image_size= (img_height_dense, img_width_dense),\n",
    "    batch_size = batch_size\n",
    ")"
   ]
  },
  {
   "cell_type": "markdown",
   "metadata": {},
   "source": [
    "# Functions"
   ]
  },
  {
   "cell_type": "code",
   "execution_count": 4,
   "metadata": {},
   "outputs": [],
   "source": [
    "thresh_range = [(x/10000) for x in range(0,10000)]\n",
    "\n",
    "def pr_curve(predictions, labels, save_path=None, save_period=None):\n",
    "    # for each threshold value calculate precision and recal\n",
    "    results = pd.DataFrame(columns=['threshold', 'accuracy', 'precision', 'recall', 'specificity', 'F1-score'])\n",
    "    for i, t in enumerate(thresh_range):\n",
    "        th, ac, pr, rc, sp, f1 = calc_prec_recall(t,predictions, labels)\n",
    "        results = pd.concat([results,pd.DataFrame.from_dict({'threshold': [th],'accuracy': [ac],'precision': [pr],'recall': [rc], 'specificity': [sp], 'F1-score': [f1]})])\n",
    "        if(save_period is not None and i%save_period == 0): # saves periodically\n",
    "            results.to_csv(save_path, index=False)\n",
    "            \n",
    "    if(save_path is not None): # save at the end\n",
    "        results.to_csv(save_path, index=False)\n",
    "    return(results)\n",
    "\n",
    "def building_blocks(threshold_value, predictions, labels):\n",
    "    # for this function we will consolidate classes\n",
    "    # we only want to compare the target class to the non-target class\n",
    "    # Covid_img is our target class (true values) and  Normal_img  Viral_img are our other classes (false values)\n",
    "    # class 0 indicates Covid\n",
    "    pos = 0\n",
    "    neg = 0\n",
    "    tp = 0 # true positive\n",
    "    fp = 0 # false positive\n",
    "    tn = 0 # true negative\n",
    "    fn = 0 # false negative\n",
    "    for i, p in enumerate(predictions):\n",
    "        if p[0] > threshold_value: # positive\n",
    "            if labels[i] == 0: # positive\n",
    "                pos += 1\n",
    "                tp += 1\n",
    "            else: # negative\n",
    "                neg += 1\n",
    "                fp += 1\n",
    "        else: # negative\n",
    "            if labels[i] == 0: # positive\n",
    "                pos += 1\n",
    "                fn += 1\n",
    "            else: # negative\n",
    "                neg += 1\n",
    "                tn += 1\n",
    "\n",
    "    return(threshold_value, tp, fp, tn, fn, pos, neg)\n",
    "\n",
    "def calc_prec_recall(threshold_value ,predictions, labels):\n",
    "    threshold, tp, fp, tn, fn, p, n = building_blocks(threshold_value, predictions, labels)\n",
    "    \n",
    "    # accuracy\n",
    "    accuracy = (tp + tn) / (tp + tn +fp + fn)\n",
    "    \n",
    "    # precision\n",
    "    precision = tp/(tp + fp + 0.000000000001)\n",
    "    \n",
    "    # recall aka sensativity\n",
    "    recall = tp/p\n",
    "    \n",
    "    # specificity\n",
    "    specificity = tn/n\n",
    "    \n",
    "    # f1-score\n",
    "    f1 = 2* (precision * recall) / (precision + recall + 0.000000000000001)\n",
    "    \n",
    "    return(threshold, accuracy, precision, recall, specificity, f1)\n",
    "\n",
    "def adj_class(arr, threshold):\n",
    "    new_pred = []\n",
    "    for a in arr:\n",
    "        if(a[0]>threshold):\n",
    "            new_pred = np.append(new_pred,0)\n",
    "        else:\n",
    "            new_pred = np.append(new_pred,np.argmax(a))\n",
    "    return(new_pred)\n",
    "\n",
    "def vote(arr):\n",
    "    class_0 = len([x for x in arr if x==0])\n",
    "    class_1 = len([x for x in arr if x==1])\n",
    "    class_2 = len([x for x in arr if x==2])\n",
    "    \n",
    "    return(np.argmax([class_0,class_1,class_2]))"
   ]
  },
  {
   "cell_type": "markdown",
   "metadata": {},
   "source": [
    "# Model 1: Resnet"
   ]
  },
  {
   "cell_type": "markdown",
   "metadata": {},
   "source": [
    "### 1. Find the ideal Threshold\n",
    "We want to select a threshold that maximizes COVID-19 true positives and minimizes false negatives. To find the threshold we need to do this on test data."
   ]
  },
  {
   "cell_type": "code",
   "execution_count": 7,
   "metadata": {},
   "outputs": [],
   "source": [
    "import zipfile\n",
    "with zipfile.ZipFile('/home/hso6b/DL/saved_models/model_ROUND3_part2_v2.zip', 'r') as zip_ref:\n",
    "    zip_ref.extractall('/home/hso6b/DL/saved_models/model_ResNet_v2')"
   ]
  },
  {
   "cell_type": "code",
   "execution_count": 9,
   "metadata": {},
   "outputs": [],
   "source": [
    "# load model\n",
    "\n",
    "# rn_model has class weighting in the training, model_RECALL does not\n",
    "saved_model_1 = tf.keras.models.load_model('/home/hso6b/DL/saved_models/model_ResNet_v2/model_ROUND3_part2')\n",
    "predictions_1 = saved_model_1.predict(test_ds)"
   ]
  },
  {
   "cell_type": "code",
   "execution_count": 10,
   "metadata": {},
   "outputs": [
    {
     "data": {
      "text/plain": [
       "array([[1.30585942e-03, 2.67335039e-04, 9.98426795e-01],\n",
       "       [9.74243104e-01, 2.51565017e-02, 6.00392581e-04],\n",
       "       [3.14491976e-04, 9.99630332e-01, 5.51729827e-05],\n",
       "       ...,\n",
       "       [1.10824183e-01, 8.89144123e-01, 3.16588412e-05],\n",
       "       [2.20570757e-04, 9.99773443e-01, 5.92078641e-06],\n",
       "       [2.75684059e-01, 7.13400543e-01, 1.09154275e-02]], dtype=float32)"
      ]
     },
     "execution_count": 10,
     "metadata": {},
     "output_type": "execute_result"
    }
   ],
   "source": [
    "# saved_model_1.predict_classes()\n",
    "predictions_1"
   ]
  },
  {
   "cell_type": "code",
   "execution_count": 11,
   "metadata": {},
   "outputs": [
    {
     "data": {
      "text/plain": [
       "array([ 876.4197 , 1515.78   ,  333.79834], dtype=float32)"
      ]
     },
     "execution_count": 11,
     "metadata": {},
     "output_type": "execute_result"
    }
   ],
   "source": [
    "np.sum(predictions_1, axis=0)"
   ]
  },
  {
   "cell_type": "code",
   "execution_count": 12,
   "metadata": {},
   "outputs": [],
   "source": [
    "# pull in label values\n",
    "y_true = []\n",
    "for img, label in test_ds:\n",
    "    y_true.append(label.numpy())"
   ]
  },
  {
   "cell_type": "code",
   "execution_count": 13,
   "metadata": {},
   "outputs": [
    {
     "data": {
      "text/html": [
       "<div>\n",
       "<style scoped>\n",
       "    .dataframe tbody tr th:only-of-type {\n",
       "        vertical-align: middle;\n",
       "    }\n",
       "\n",
       "    .dataframe tbody tr th {\n",
       "        vertical-align: top;\n",
       "    }\n",
       "\n",
       "    .dataframe thead th {\n",
       "        text-align: right;\n",
       "    }\n",
       "</style>\n",
       "<table border=\"1\" class=\"dataframe\">\n",
       "  <thead>\n",
       "    <tr style=\"text-align: right;\">\n",
       "      <th></th>\n",
       "      <th>threshold</th>\n",
       "      <th>accuracy</th>\n",
       "      <th>precision</th>\n",
       "      <th>recall</th>\n",
       "      <th>specificity</th>\n",
       "      <th>F1-score</th>\n",
       "    </tr>\n",
       "  </thead>\n",
       "  <tbody>\n",
       "    <tr>\n",
       "      <th>0</th>\n",
       "      <td>0.9999</td>\n",
       "      <td>0.741746</td>\n",
       "      <td>0.306122</td>\n",
       "      <td>0.069552</td>\n",
       "      <td>0.950938</td>\n",
       "      <td>0.11335</td>\n",
       "    </tr>\n",
       "  </tbody>\n",
       "</table>\n",
       "</div>"
      ],
      "text/plain": [
       "  threshold  accuracy precision    recall specificity F1-score\n",
       "0    0.9999  0.741746  0.306122  0.069552    0.950938  0.11335"
      ]
     },
     "execution_count": 13,
     "metadata": {},
     "output_type": "execute_result"
    }
   ],
   "source": [
    "# calculate precision and recall,then select the right threshold\n",
    "results_1 = pr_curve(predictions_1, np.concatenate(y_true), save_path='model_1.csv', save_period=100)\n",
    "test_results_ResNet = results_1.sort_values(['precision','recall'], ascending=False)\n",
    "test_results_ResNet.head(1)"
   ]
  },
  {
   "cell_type": "code",
   "execution_count": 14,
   "metadata": {},
   "outputs": [],
   "source": [
    "y_true_adj = [x if x in [0,1] else 1 for x in np.concatenate(y_true)]\n",
    "predictions_1_adj = [x[0] for x in predictions_1] # just the first class"
   ]
  },
  {
   "cell_type": "code",
   "execution_count": 15,
   "metadata": {},
   "outputs": [
    {
     "data": {
      "image/png": "[encoded data removed]",
      "text/plain": [
       "<Figure size 432x288 with 1 Axes>"
      ]
     },
     "metadata": {
      "needs_background": "light"
     },
     "output_type": "display_data"
    }
   ],
   "source": [
    "from sklearn.metrics import PrecisionRecallDisplay\n",
    "\n",
    "display = PrecisionRecallDisplay.from_predictions(y_true_adj, predictions_1_adj, name=\"LinearSVC\")\n",
    "_ = display.ax_.set_title(\"2-class Precision-Recall curve\")"
   ]
  },
  {
   "cell_type": "markdown",
   "metadata": {},
   "source": [
    "### 2. After finding an ideal threshold, we assign any class that's over the threshold for COVID-19 to the COVID class"
   ]
  },
  {
   "cell_type": "code",
   "execution_count": 16,
   "metadata": {},
   "outputs": [],
   "source": [
    "# before or after combining predictions, set threshold for predictions and assign to classes based on that threshold\n",
    "threshold_1 = 1 - 0.9999 # threshold should be determined on test data not holdout\n",
    "adj_pred_1 = adj_class(predictions_1, threshold_1)"
   ]
  },
  {
   "cell_type": "code",
   "execution_count": 17,
   "metadata": {},
   "outputs": [
    {
     "data": {
      "image/png": "[encoded data removed]",
      "text/plain": [
       "<Figure size 720x576 with 2 Axes>"
      ]
     },
     "metadata": {
      "needs_background": "light"
     },
     "output_type": "display_data"
    }
   ],
   "source": [
    "y_true = []\n",
    "for img, label in test_ds:\n",
    "    y_true.append(label.numpy())\n",
    "y_true\n",
    "\n",
    "# create and plot confusion matrix\n",
    "confusion_mtx = tf.math.confusion_matrix(\n",
    "    np.concatenate(y_true),\n",
    "    adj_pred_1,\n",
    "    num_classes=3,\n",
    "    weights=None)\n",
    "confusion_mtx = confusion_mtx/confusion_mtx.numpy().sum(axis=1)[:, tf.newaxis]\n",
    "plt.figure(figsize=(10, 8))\n",
    "sns.set(font_scale = 1.5)\n",
    "sns.heatmap(confusion_mtx,\n",
    "            xticklabels=class_names,\n",
    "            yticklabels=class_names,\n",
    "            annot=True, fmt='g')\n",
    "plt.xlabel('Prediction')\n",
    "plt.ylabel('Label')\n",
    "plt.savefig('matrix1.png')\n",
    "plt.show()"
   ]
  },
  {
   "cell_type": "markdown",
   "metadata": {},
   "source": [
    "# Model 2: VGGNet"
   ]
  },
  {
   "cell_type": "markdown",
   "metadata": {},
   "source": [
    "### 1. Find the ideal Threshold\n",
    "We want to select a threshold that maximizes COVID-19 true positives and minimizes false negatives. To find the threshold we need to do this on test data."
   ]
  },
  {
   "cell_type": "code",
   "execution_count": 18,
   "metadata": {},
   "outputs": [],
   "source": [
    "# load model\n",
    "saved_model_2 = tf.keras.models.load_model('./saved_models/model_VGG_v2')\n",
    "predictions_2 = saved_model_2.predict(test_ds)"
   ]
  },
  {
   "cell_type": "code",
   "execution_count": 19,
   "metadata": {},
   "outputs": [
    {
     "data": {
      "text/plain": [
       "array([[9.4414616e-35, 1.0000000e+00, 1.7746647e-24],\n",
       "       [0.0000000e+00, 1.0000000e+00, 0.0000000e+00],\n",
       "       [0.0000000e+00, 1.0000000e+00, 0.0000000e+00],\n",
       "       ...,\n",
       "       [0.0000000e+00, 1.0000000e+00, 0.0000000e+00],\n",
       "       [3.4965247e-16, 1.0000000e+00, 0.0000000e+00],\n",
       "       [1.0000000e+00, 0.0000000e+00, 0.0000000e+00]], dtype=float32)"
      ]
     },
     "execution_count": 19,
     "metadata": {},
     "output_type": "execute_result"
    }
   ],
   "source": [
    "predictions_2"
   ]
  },
  {
   "cell_type": "code",
   "execution_count": 20,
   "metadata": {},
   "outputs": [
    {
     "data": {
      "text/plain": [
       "array([1022.2106  , 1576.3173  ,  127.471855], dtype=float32)"
      ]
     },
     "execution_count": 20,
     "metadata": {},
     "output_type": "execute_result"
    }
   ],
   "source": [
    "np.sum(predictions_2, axis=0)"
   ]
  },
  {
   "cell_type": "code",
   "execution_count": 21,
   "metadata": {},
   "outputs": [
    {
     "data": {
      "text/html": [
       "<div>\n",
       "<style scoped>\n",
       "    .dataframe tbody tr th:only-of-type {\n",
       "        vertical-align: middle;\n",
       "    }\n",
       "\n",
       "    .dataframe tbody tr th {\n",
       "        vertical-align: top;\n",
       "    }\n",
       "\n",
       "    .dataframe thead th {\n",
       "        text-align: right;\n",
       "    }\n",
       "</style>\n",
       "<table border=\"1\" class=\"dataframe\">\n",
       "  <thead>\n",
       "    <tr style=\"text-align: right;\">\n",
       "      <th></th>\n",
       "      <th>threshold</th>\n",
       "      <th>accuracy</th>\n",
       "      <th>precision</th>\n",
       "      <th>recall</th>\n",
       "      <th>specificity</th>\n",
       "      <th>F1-score</th>\n",
       "    </tr>\n",
       "  </thead>\n",
       "  <tbody>\n",
       "    <tr>\n",
       "      <th>0</th>\n",
       "      <td>0.9977</td>\n",
       "      <td>0.59391</td>\n",
       "      <td>0.26386</td>\n",
       "      <td>0.397218</td>\n",
       "      <td>0.655123</td>\n",
       "      <td>0.317088</td>\n",
       "    </tr>\n",
       "  </tbody>\n",
       "</table>\n",
       "</div>"
      ],
      "text/plain": [
       "  threshold accuracy precision    recall specificity  F1-score\n",
       "0    0.9977  0.59391   0.26386  0.397218    0.655123  0.317088"
      ]
     },
     "execution_count": 21,
     "metadata": {},
     "output_type": "execute_result"
    }
   ],
   "source": [
    "# calculate precision and recall,then select the right threshold\n",
    "results_2 = pr_curve(predictions_2, np.concatenate(y_true), save_path='model_2.csv', save_period=100)\n",
    "test_results_VGGNet = results_2.sort_values(['precision','recall'], ascending=False)\n",
    "test_results_VGGNet.head(1)"
   ]
  },
  {
   "cell_type": "markdown",
   "metadata": {},
   "source": [
    "### 2. After finding an ideal threshold, we assign any class that's over the threshold for COVID-19 to the COVID class"
   ]
  },
  {
   "cell_type": "code",
   "execution_count": 22,
   "metadata": {},
   "outputs": [],
   "source": [
    "# before or after combining predictions, set threshold for predictions and assign to classes based on that threshold\n",
    "threshold_2 = 0.9977 # threshold should be determined on test data not holdout\n",
    "adj_pred_2 = adj_class(predictions_2, threshold_2)"
   ]
  },
  {
   "cell_type": "code",
   "execution_count": 23,
   "metadata": {},
   "outputs": [
    {
     "data": {
      "image/png": "[encoded data removed]",
      "text/plain": [
       "<Figure size 720x576 with 2 Axes>"
      ]
     },
     "metadata": {},
     "output_type": "display_data"
    }
   ],
   "source": [
    "y_true = []\n",
    "for img, label in test_ds:\n",
    "    y_true.append(label.numpy())\n",
    "y_true\n",
    "\n",
    "# create and plot confusion matrix\n",
    "confusion_mtx = tf.math.confusion_matrix(\n",
    "    np.concatenate(y_true),\n",
    "    adj_pred_2,\n",
    "    num_classes=3,\n",
    "    weights=None)\n",
    "confusion_mtx = confusion_mtx/confusion_mtx.numpy().sum(axis=1)[:, tf.newaxis]\n",
    "plt.figure(figsize=(10, 8))\n",
    "sns.set(font_scale = 1.5)\n",
    "sns.heatmap(confusion_mtx,\n",
    "            xticklabels=class_names,\n",
    "            yticklabels=class_names,\n",
    "            annot=True, fmt='g')\n",
    "plt.xlabel('Prediction')\n",
    "plt.ylabel('Label')\n",
    "plt.savefig('matrix2.png')\n",
    "plt.show()"
   ]
  },
  {
   "cell_type": "markdown",
   "metadata": {},
   "source": [
    "# Model 3: DenseNet"
   ]
  },
  {
   "cell_type": "markdown",
   "metadata": {},
   "source": [
    "### 1. Find the ideal Threshold\n",
    "We want to select a threshold that maximizes COVID-19 true positives and minimizes false negatives. To find the threshold we need to do this on test data."
   ]
  },
  {
   "cell_type": "code",
   "execution_count": 29,
   "metadata": {},
   "outputs": [],
   "source": [
    "import zipfile\n",
    "with zipfile.ZipFile('/home/hso6b/DL/saved_models/model_Dense_2.zip', 'r') as zip_ref:\n",
    "    zip_ref.extractall('/home/hso6b/DL/saved_models/model_DenseNet')"
   ]
  },
  {
   "cell_type": "code",
   "execution_count": 24,
   "metadata": {},
   "outputs": [],
   "source": [
    "# load model\n",
    "saved_model_3 = tf.keras.models.load_model('/home/hso6b/DL/saved_models/model_DenseNet')\n",
    "predictions_3 = saved_model_3.predict(test_ds_dense)"
   ]
  },
  {
   "cell_type": "code",
   "execution_count": 25,
   "metadata": {},
   "outputs": [
    {
     "data": {
      "text/plain": [
       "array([[0.02315411, 0.7037024 , 0.27314344],\n",
       "       [0.73892504, 0.06447738, 0.19659759],\n",
       "       [0.5426319 , 0.14758553, 0.3097826 ],\n",
       "       ...,\n",
       "       [0.4006914 , 0.3198422 , 0.27946642],\n",
       "       [0.7387637 , 0.13541012, 0.12582614],\n",
       "       [0.527265  , 0.12825899, 0.34447604]], dtype=float32)"
      ]
     },
     "execution_count": 25,
     "metadata": {},
     "output_type": "execute_result"
    }
   ],
   "source": [
    "predictions_3"
   ]
  },
  {
   "cell_type": "code",
   "execution_count": 26,
   "metadata": {},
   "outputs": [
    {
     "data": {
      "text/plain": [
       "array([1325.9479,  681.546 ,  718.5047], dtype=float32)"
      ]
     },
     "execution_count": 26,
     "metadata": {},
     "output_type": "execute_result"
    }
   ],
   "source": [
    "np.sum(predictions_3, axis=0)"
   ]
  },
  {
   "cell_type": "code",
   "execution_count": 27,
   "metadata": {},
   "outputs": [
    {
     "data": {
      "text/html": [
       "<div>\n",
       "<style scoped>\n",
       "    .dataframe tbody tr th:only-of-type {\n",
       "        vertical-align: middle;\n",
       "    }\n",
       "\n",
       "    .dataframe tbody tr th {\n",
       "        vertical-align: top;\n",
       "    }\n",
       "\n",
       "    .dataframe thead th {\n",
       "        text-align: right;\n",
       "    }\n",
       "</style>\n",
       "<table border=\"1\" class=\"dataframe\">\n",
       "  <thead>\n",
       "    <tr style=\"text-align: right;\">\n",
       "      <th></th>\n",
       "      <th>threshold</th>\n",
       "      <th>accuracy</th>\n",
       "      <th>precision</th>\n",
       "      <th>recall</th>\n",
       "      <th>specificity</th>\n",
       "      <th>F1-score</th>\n",
       "    </tr>\n",
       "  </thead>\n",
       "  <tbody>\n",
       "    <tr>\n",
       "      <th>0</th>\n",
       "      <td>0.9804</td>\n",
       "      <td>0.763023</td>\n",
       "      <td>0.571429</td>\n",
       "      <td>0.006182</td>\n",
       "      <td>0.998557</td>\n",
       "      <td>0.012232</td>\n",
       "    </tr>\n",
       "  </tbody>\n",
       "</table>\n",
       "</div>"
      ],
      "text/plain": [
       "  threshold  accuracy precision    recall specificity  F1-score\n",
       "0    0.9804  0.763023  0.571429  0.006182    0.998557  0.012232"
      ]
     },
     "execution_count": 27,
     "metadata": {},
     "output_type": "execute_result"
    }
   ],
   "source": [
    "# calculate precision and recall,then select the right threshold\n",
    "results_3 = pr_curve(predictions_3, np.concatenate(y_true), save_path='model_3.csv', save_period=100)\n",
    "test_results_DenseNet = results_3.sort_values(['precision','recall'], ascending=False)\n",
    "test_results_DenseNet.head(1)"
   ]
  },
  {
   "cell_type": "markdown",
   "metadata": {},
   "source": [
    "### 2. After finding an ideal threshold, we assign any class that's over the threshold for COVID-19 to the COVID class"
   ]
  },
  {
   "cell_type": "code",
   "execution_count": 28,
   "metadata": {},
   "outputs": [],
   "source": [
    "# before or after combining predictions, set threshold for predictions and assign to classes based on that threshold\n",
    "threshold_3 = 0.9804 # threshold should be determined on test data not holdout\n",
    "adj_pred_3 = adj_class(predictions_3, threshold_3)"
   ]
  },
  {
   "cell_type": "code",
   "execution_count": 29,
   "metadata": {},
   "outputs": [
    {
     "data": {
      "image/png": "[encoded data removed]",
      "text/plain": [
       "<Figure size 720x576 with 2 Axes>"
      ]
     },
     "metadata": {},
     "output_type": "display_data"
    }
   ],
   "source": [
    "# create and plot confusion matrix\n",
    "confusion_mtx = tf.math.confusion_matrix(\n",
    "    np.concatenate(y_true),\n",
    "    adj_pred_3,\n",
    "    num_classes=3,\n",
    "    weights=None)\n",
    "confusion_mtx = confusion_mtx/confusion_mtx.numpy().sum(axis=1)[:, tf.newaxis]\n",
    "plt.figure(figsize=(10, 8))\n",
    "sns.set(font_scale = 1.5)\n",
    "sns.heatmap(confusion_mtx,\n",
    "            xticklabels=class_names,\n",
    "            yticklabels=class_names,\n",
    "            annot=True, fmt='g')\n",
    "plt.xlabel('Prediction')\n",
    "plt.ylabel('Label')\n",
    "plt.savefig('matrix3.png')\n",
    "plt.show()"
   ]
  },
  {
   "cell_type": "code",
   "execution_count": 30,
   "metadata": {},
   "outputs": [],
   "source": [
    "df_res = test_results_ResNet.head(1)\n",
    "df_VGG = test_results_VGGNet.head(1)\n",
    "df_Den = test_results_DenseNet.head(1)"
   ]
  },
  {
   "cell_type": "code",
   "execution_count": 31,
   "metadata": {},
   "outputs": [
    {
     "data": {
      "text/html": [
       "<div>\n",
       "<style scoped>\n",
       "    .dataframe tbody tr th:only-of-type {\n",
       "        vertical-align: middle;\n",
       "    }\n",
       "\n",
       "    .dataframe tbody tr th {\n",
       "        vertical-align: top;\n",
       "    }\n",
       "\n",
       "    .dataframe thead th {\n",
       "        text-align: right;\n",
       "    }\n",
       "</style>\n",
       "<table border=\"1\" class=\"dataframe\">\n",
       "  <thead>\n",
       "    <tr style=\"text-align: right;\">\n",
       "      <th></th>\n",
       "      <th>threshold</th>\n",
       "      <th>accuracy</th>\n",
       "      <th>precision</th>\n",
       "      <th>recall</th>\n",
       "      <th>specificity</th>\n",
       "      <th>F1-score</th>\n",
       "    </tr>\n",
       "  </thead>\n",
       "  <tbody>\n",
       "    <tr>\n",
       "      <th>ResNet</th>\n",
       "      <td>0.9999</td>\n",
       "      <td>0.741746</td>\n",
       "      <td>0.306122</td>\n",
       "      <td>0.069552</td>\n",
       "      <td>0.950938</td>\n",
       "      <td>0.11335</td>\n",
       "    </tr>\n",
       "    <tr>\n",
       "      <th>VGGNet</th>\n",
       "      <td>0.9977</td>\n",
       "      <td>0.59391</td>\n",
       "      <td>0.26386</td>\n",
       "      <td>0.397218</td>\n",
       "      <td>0.655123</td>\n",
       "      <td>0.317088</td>\n",
       "    </tr>\n",
       "    <tr>\n",
       "      <th>DenseNet</th>\n",
       "      <td>0.9804</td>\n",
       "      <td>0.763023</td>\n",
       "      <td>0.571429</td>\n",
       "      <td>0.006182</td>\n",
       "      <td>0.998557</td>\n",
       "      <td>0.012232</td>\n",
       "    </tr>\n",
       "  </tbody>\n",
       "</table>\n",
       "</div>"
      ],
      "text/plain": [
       "         threshold  accuracy precision    recall specificity  F1-score\n",
       "ResNet      0.9999  0.741746  0.306122  0.069552    0.950938   0.11335\n",
       "VGGNet      0.9977   0.59391   0.26386  0.397218    0.655123  0.317088\n",
       "DenseNet    0.9804  0.763023  0.571429  0.006182    0.998557  0.012232"
      ]
     },
     "execution_count": 31,
     "metadata": {},
     "output_type": "execute_result"
    }
   ],
   "source": [
    "df = df_res\n",
    "df = df.append(df_VGG, ignore_index = True)\n",
    "df = df.append(df_Den, ignore_index = True)\n",
    "df = df.rename(index={0: 'ResNet', 1: 'VGGNet', 2: 'DenseNet'})\n",
    "df"
   ]
  },
  {
   "cell_type": "markdown",
   "metadata": {},
   "source": [
    "# Combine the predictions"
   ]
  },
  {
   "cell_type": "code",
   "execution_count": 32,
   "metadata": {},
   "outputs": [],
   "source": [
    "# Prediction on holdout data, now that we have the threshold selected\n",
    "HOLD_predictions_1 = saved_model_1.predict(HOLD_ds)\n",
    "HOLD_predictions_2 = saved_model_2.predict(HOLD_ds)\n",
    "HOLD_predictions_3 = saved_model_3.predict(HOLD_ds_dense)"
   ]
  },
  {
   "cell_type": "code",
   "execution_count": 33,
   "metadata": {},
   "outputs": [],
   "source": [
    "HOLD_adj_pred_1 = adj_class(HOLD_predictions_1, threshold_1)\n",
    "HOLD_adj_pred_2 = adj_class(HOLD_predictions_2, threshold_2)\n",
    "HOLD_adj_pred_3 = adj_class(HOLD_predictions_3, threshold_3)\n",
    "\n",
    "max_pred = np.dstack([HOLD_adj_pred_1,HOLD_adj_pred_2,HOLD_adj_pred_3])[0]"
   ]
  },
  {
   "cell_type": "code",
   "execution_count": 34,
   "metadata": {},
   "outputs": [
    {
     "data": {
      "text/plain": [
       "1514"
      ]
     },
     "execution_count": 34,
     "metadata": {},
     "output_type": "execute_result"
    }
   ],
   "source": [
    "max_pred = [vote(x) for x in max_pred]\n",
    "len(max_pred)"
   ]
  },
  {
   "cell_type": "code",
   "execution_count": 35,
   "metadata": {
    "collapsed": true,
    "jupyter": {
     "outputs_hidden": true
    }
   },
   "outputs": [
    {
     "data": {
      "image/png": "[encoded data removed]",
      "text/plain": [
       "<Figure size 720x576 with 2 Axes>"
      ]
     },
     "metadata": {},
     "output_type": "display_data"
    }
   ],
   "source": [
    "y_true_hold = []\n",
    "for img, label in HOLD_ds:\n",
    "    y_true_hold.append(label.numpy())\n",
    "y_true_hold\n",
    "\n",
    "# create and plot confusion matrix\n",
    "confusion_mtx = tf.math.confusion_matrix(\n",
    "    np.concatenate(y_true_hold),\n",
    "    max_pred,\n",
    "    num_classes=3,\n",
    "    weights=None) # change to get to 100% covid accuracy\n",
    "confusion_mtx = confusion_mtx/confusion_mtx.numpy().sum(axis=1)[:, tf.newaxis]\n",
    "plt.figure(figsize=(10, 8))\n",
    "sns.set(font_scale = 1.5)\n",
    "sns.heatmap(confusion_mtx,\n",
    "            xticklabels=class_names,\n",
    "            yticklabels=class_names,\n",
    "            annot=True, fmt='g')\n",
    "plt.xlabel('Prediction')\n",
    "plt.ylabel('Label')\n",
    "plt.savefig('matrix_comb.png')\n",
    "plt.show()"
   ]
  },
  {
   "cell_type": "markdown",
   "metadata": {},
   "source": [
    "## Test timing for a singel prediction"
   ]
  },
  {
   "cell_type": "code",
   "execution_count": 42,
   "metadata": {},
   "outputs": [
    {
     "name": "stdout",
     "output_type": "stream",
     "text": [
      "CPU times: user 4 µs, sys: 0 ns, total: 4 µs\n",
      "Wall time: 9.54 µs\n"
     ]
    }
   ],
   "source": [
    "%time  # Model 1 - ResNet\n",
    "predictions_s1 = saved_model_1.predict(test_ds.take(1))"
   ]
  },
  {
   "cell_type": "code",
   "execution_count": 43,
   "metadata": {},
   "outputs": [
    {
     "name": "stdout",
     "output_type": "stream",
     "text": [
      "CPU times: user 4 µs, sys: 0 ns, total: 4 µs\n",
      "Wall time: 7.63 µs\n"
     ]
    }
   ],
   "source": [
    "%time  # Model 2 - VGGNet\n",
    "predictions_s2 = saved_model_2.predict(test_ds.take(1))"
   ]
  },
  {
   "cell_type": "code",
   "execution_count": 44,
   "metadata": {},
   "outputs": [
    {
     "name": "stdout",
     "output_type": "stream",
     "text": [
      "CPU times: user 0 ns, sys: 4 µs, total: 4 µs\n",
      "Wall time: 8.58 µs\n"
     ]
    }
   ],
   "source": [
    "%time # Model 3 - DenseNet\n",
    "predictions_s3 = saved_model_3.predict(test_ds_dense.take(1))"
   ]
  },
  {
   "cell_type": "code",
   "execution_count": null,
   "metadata": {},
   "outputs": [],
   "source": []
  }
 ],
 "metadata": {
  "kernelspec": {
   "display_name": "Tensorflow 2.8.0/Keras Py3.9",
   "language": "python",
   "name": "tensorflow-2.8.0"
  },
  "language_info": {
   "codemirror_mode": {
    "name": "ipython",
    "version": 3
   },
   "file_extension": ".py",
   "mimetype": "text/x-python",
   "name": "python",
   "nbconvert_exporter": "python",
   "pygments_lexer": "ipython3",
   "version": "3.9.10"
  }
 },
 "nbformat": 4,
 "nbformat_minor": 4
}
