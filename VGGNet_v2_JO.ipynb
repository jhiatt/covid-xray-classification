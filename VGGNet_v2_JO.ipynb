{
 "cells": [
  {
   "cell_type": "code",
   "execution_count": 1,
   "metadata": {},
   "outputs": [],
   "source": [
    "import sys\n",
    "import sklearn\n",
    "import os\n",
    "import numpy as np\n",
    "import pandas as pd\n",
    "import matplotlib as mpl\n",
    "import matplotlib.pyplot as plt\n",
    "from functools import partial\n",
    "import PIL\n",
    "import PIL.Image\n",
    "import random as python_random\n",
    "import seaborn as sns\n",
    "\n",
    "import tensorflow as tf\n",
    "from tensorflow import keras\n",
    "from keras.preprocessing.image import ImageDataGenerator\n",
    "from sklearn.metrics import *\n",
    "\n",
    "import torch\n",
    "import torch.optim as optim\n",
    "import torch.nn as nn\n",
    "import torch.nn.functional as F\n",
    "import torchvision\n",
    "import torchvision.datasets as datasets\n",
    "import torchvision.transforms as transforms\n",
    "from torchvision import models\n",
    "from torch import optim\n",
    "\n",
    "np.random.seed(42) # note that you must use the same seed to ensure consistentcy in your training/validation/testing\n",
    "tf.random.set_seed(42)"
   ]
  },
  {
   "cell_type": "markdown",
   "metadata": {},
   "source": [
    "## Class Analysis"
   ]
  },
  {
   "cell_type": "code",
   "execution_count": 3,
   "metadata": {},
   "outputs": [
    {
     "name": "stdout",
     "output_type": "stream",
     "text": [
      "/sfs/qumulo/qhome/hso6b/DL\n"
     ]
    }
   ],
   "source": [
    "!pwd"
   ]
  },
  {
   "cell_type": "code",
   "execution_count": 11,
   "metadata": {},
   "outputs": [],
   "source": [
    "covidDataPath='dl_data_2/dl_data/Covid_img'\n",
    "pneumoniaDataPath='dl_data_2/dl_data/Viral_img'\n",
    "normalDataPath='dl_data_2/dl_data/Normal_img'"
   ]
  },
  {
   "cell_type": "code",
   "execution_count": 12,
   "metadata": {},
   "outputs": [],
   "source": [
    "# Lists for access paths\n",
    "listCovidPaths = []\n",
    "listViralPaths=[]\n",
    "listNormalPaths = []\n",
    "\n",
    "# Get covid images files paths\n",
    "for root, directories, files in os.walk(covidDataPath):\n",
    "    for name in files:\n",
    "        listCovidPaths.append(os.path.join(root, name))\n",
    "\n",
    "for root, directories, files in os.walk(pneumoniaDataPath):\n",
    "    for name in files:\n",
    "        listViralPaths.append(os.path.join(root, name))        \n",
    "        \n",
    "# Get normal images files paths\n",
    "for root, directories, files in os.walk(normalDataPath):\n",
    "    for name in files:\n",
    "        listNormalPaths.append(os.path.join(root, name))"
   ]
  },
  {
   "cell_type": "code",
   "execution_count": 4,
   "metadata": {},
   "outputs": [],
   "source": [
    "data_path = 'dl_data_2/dl_data/'\n",
    "class_names = os.listdir(data_path)"
   ]
  },
  {
   "cell_type": "code",
   "execution_count": 5,
   "metadata": {},
   "outputs": [
    {
     "data": {
      "text/plain": [
       "['Covid_img', 'Viral_img', 'Normal_img']"
      ]
     },
     "execution_count": 5,
     "metadata": {},
     "output_type": "execute_result"
    }
   ],
   "source": [
    "class_names"
   ]
  },
  {
   "cell_type": "code",
   "execution_count": 34,
   "metadata": {},
   "outputs": [
    {
     "data": {
      "text/plain": [
       "['Covid_img', 'Viral_img', 'Normal_img']"
      ]
     },
     "execution_count": 34,
     "metadata": {},
     "output_type": "execute_result"
    }
   ],
   "source": [
    "#class_names = class_names[-3:]\n",
    "#class_names"
   ]
  },
  {
   "cell_type": "code",
   "execution_count": 6,
   "metadata": {},
   "outputs": [
    {
     "name": "stdout",
     "output_type": "stream",
     "text": [
      "Covid_img\n",
      "3249\n",
      "Viral_img\n",
      "1211\n",
      "Normal_img\n",
      "9173\n"
     ]
    }
   ],
   "source": [
    "class_dist = {}\n",
    "for c in class_names:\n",
    "    class_dist[c] = len(os.listdir(data_path + c))\n",
    "    print(c)\n",
    "    print(class_dist[c])"
   ]
  },
  {
   "cell_type": "code",
   "execution_count": 31,
   "metadata": {},
   "outputs": [],
   "source": [
    "import math\n",
    "\n",
    "def pull_val(dir_path, val_path, portion):\n",
    "    # get a list of files to hold out for validation\n",
    "    files = os.listdir(dir_path)\n",
    "    length = len(files)\n",
    "    num_files = math.floor(length * portion)\n",
    "    val_files = np.random.choice(files, size=num_files, replace=False)\n",
    "\n",
    "    # move files\n",
    "    for f in val_files:\n",
    "        os.rename(dir_path + '/' + f, val_path + '/' + f)"
   ]
  },
  {
   "cell_type": "code",
   "execution_count": 36,
   "metadata": {},
   "outputs": [],
   "source": [
    "# if you need to, use this to make a new directory\n",
    "os.mkdir('dl_data_2/HOLD_data')\n",
    "os.mkdir('dl_data_2/test_data')\n",
    "for c in class_names:\n",
    "    os.mkdir('dl_data_2/HOLD_data/' + c)\n",
    "    os.mkdir('dl_data_2/test_data/' + c)"
   ]
  },
  {
   "cell_type": "code",
   "execution_count": 37,
   "metadata": {},
   "outputs": [],
   "source": [
    "# save out holdout and testing data\n",
    "portion = .10 # portion of data set aside for HOLDOUT\n",
    "    \n",
    "for c in class_names:\n",
    "    dir_path = 'dl_data_2/dl_data/' + c\n",
    "    val_path = 'dl_data_2/HOLD_data/' + c\n",
    "    pull_val(dir_path, val_path, portion)"
   ]
  },
  {
   "cell_type": "markdown",
   "metadata": {},
   "source": [
    "## Load Data"
   ]
  },
  {
   "cell_type": "code",
   "execution_count": 8,
   "metadata": {},
   "outputs": [
    {
     "name": "stdout",
     "output_type": "stream",
     "text": [
      "Found 10908 images belonging to 3 classes.\n",
      "Found 2725 images belonging to 3 classes.\n",
      "Found 1514 images belonging to 3 classes.\n"
     ]
    }
   ],
   "source": [
    "from sklearn.datasets import load_files \n",
    "from keras.utils import np_utils\n",
    "\n",
    "from keras.preprocessing import image\n",
    "\n",
    "#### calculate class weights\n",
    "\n",
    "# Scaling by total/2 helps keep the loss to a similar magnitude.\n",
    "# The sum of the weights of all examples stays the same.\n",
    "total = sum(class_dist.values())\n",
    "weight_for_0 = (1 / class_dist[class_names[0]]) * (total / 2.0)\n",
    "weight_for_1 = (1 / class_dist[class_names[1]]) * (total / 2.0)\n",
    "weight_for_2 = (1 / class_dist[class_names[2]]) * (total / 2.0)\n",
    "\n",
    "class_weights = {0: weight_for_0, 1: weight_for_1, 2: weight_for_2}\n",
    "\n",
    "# directories\n",
    "data_dir = \"dl_data_2/dl_data\"\n",
    "\n",
    "# test_dir = \"../test_data\"\n",
    "HOLD_dir = \"dl_data_2/HOLD_data\"\n",
    "\n",
    "batch_size = 32;\n",
    "\n",
    "# IMPORTANT: Depends on what pre-trained model you choose, you will need to change these dimensions accordingly\n",
    "img_height = 224; \n",
    "img_width = 224;\n",
    "    \n",
    "# data augmentation (for training only)\n",
    "train_data_gen = ImageDataGenerator(rescale=1./255,\n",
    "                                    zoom_range= 0.3, \n",
    "                                    horizontal_flip= True, \n",
    "                                    shear_range= 0.2,\n",
    "                                    rotation_range = 30,\n",
    "                                    validation_split=0.2)\n",
    "\n",
    "train_ds = train_data_gen.flow_from_directory(\n",
    "    directory = data_dir,\n",
    "    target_size=(img_height, img_width),\n",
    "    color_mode='rgb',\n",
    "    classes=None,\n",
    "    class_mode='categorical',\n",
    "    batch_size=batch_size,\n",
    "    shuffle=True,\n",
    "    seed=42,\n",
    "    follow_links=False,\n",
    "    subset='training',\n",
    "    interpolation='nearest'\n",
    ")\n",
    "\n",
    "validation_ds = train_data_gen.flow_from_directory(\n",
    "    directory=data_dir,  # same directory because we are splitting the data here\n",
    "    follow_links=False,\n",
    "    subset='validation',\n",
    "    interpolation='nearest',\n",
    "    target_size=(img_height, img_width), \n",
    "    class_mode='categorical',\n",
    "    shuffle=True,\n",
    "    seed=42,\n",
    "    batch_size=batch_size\n",
    ")\n",
    "\n",
    "\n",
    "test_data_gen = ImageDataGenerator(rescale=1./255)\n",
    "\n",
    "\n",
    "# holdout data\n",
    "HOLD_ds = test_data_gen.flow_from_directory(directory=HOLD_dir, \n",
    "                                            target_size=(img_height, img_width), \n",
    "                                            class_mode='categorical',\n",
    "                                            shuffle=True,\n",
    "                                            seed=42,\n",
    "                                            batch_size=batch_size)"
   ]
  },
  {
   "cell_type": "code",
   "execution_count": 75,
   "metadata": {},
   "outputs": [
    {
     "data": {
      "text/plain": [
       "{'Covid_img': 0, 'Normal_img': 1, 'Viral_img': 2}"
      ]
     },
     "execution_count": 75,
     "metadata": {},
     "output_type": "execute_result"
    }
   ],
   "source": [
    "class_ind = (train_ds.class_indices)\n",
    "class_ind"
   ]
  },
  {
   "cell_type": "code",
   "execution_count": 6,
   "metadata": {},
   "outputs": [],
   "source": [
    "# set checkpoint to resume training if it stops unexpectedly\n",
    "checkpoint_path = \"../checkpoints/training_2/cp.ckpt\"\n",
    "checkpoint_dir = os.path.dirname(checkpoint_path)\n",
    "\n",
    "# Create a callback that saves the model's weights\n",
    "cp_callback = tf.keras.callbacks.ModelCheckpoint(filepath=checkpoint_path,\n",
    "                                                 save_weights_only=True,\n",
    "                                                 verbose=1)"
   ]
  },
  {
   "cell_type": "markdown",
   "metadata": {},
   "source": [
    "## VGG-19"
   ]
  },
  {
   "cell_type": "code",
   "execution_count": 10,
   "metadata": {},
   "outputs": [],
   "source": [
    "base_model_1 = keras.applications.VGG19(weights='imagenet', include_top=False)\n",
    "n_classes = 3\n",
    "\n",
    "# Rebuild top\n",
    "x = tf.keras.layers.GlobalAveragePooling2D(name=\"avg_pool\")(base_model_1.output)\n",
    "x = tf.keras.layers.BatchNormalization()(x)\n",
    "\n",
    "top_dropout_rate = 0.2\n",
    "x = tf.keras.layers.Dropout(top_dropout_rate, name=\"top_dropout\")(x)\n",
    "# x = tf.keras.layers.Flatten()(x)\n",
    "outputs = tf.keras.layers.Dense(3, activation=\"softmax\", name=\"pred\")(x) # match number of classes\n",
    "\n",
    "model_1 = keras.models.Model(inputs=base_model_1.input,\n",
    "                             outputs=outputs)"
   ]
  },
  {
   "cell_type": "code",
   "execution_count": 13,
   "metadata": {},
   "outputs": [
    {
     "name": "stdout",
     "output_type": "stream",
     "text": [
      "Epoch 1/20\n"
     ]
    },
    {
     "name": "stderr",
     "output_type": "stream",
     "text": [
      "2022-04-30 15:59:04.106950: I tensorflow/stream_executor/cuda/cuda_dnn.cc:368] Loaded cuDNN version 8101\n"
     ]
    },
    {
     "name": "stdout",
     "output_type": "stream",
     "text": [
      "341/341 [==============================] - 409s 1s/step - loss: 1.4808 - accuracy: 0.7517 - val_loss: 0.8439 - val_accuracy: 0.6738\n",
      "Epoch 2/20\n",
      "341/341 [==============================] - 161s 472ms/step - loss: 1.2178 - accuracy: 0.7800 - val_loss: 0.4921 - val_accuracy: 0.7960\n",
      "Epoch 3/20\n",
      "341/341 [==============================] - 162s 475ms/step - loss: 1.1865 - accuracy: 0.7890 - val_loss: 0.4490 - val_accuracy: 0.8283\n",
      "Epoch 4/20\n",
      "341/341 [==============================] - 161s 473ms/step - loss: 1.1825 - accuracy: 0.7852 - val_loss: 0.4263 - val_accuracy: 0.8257\n",
      "Epoch 5/20\n",
      "341/341 [==============================] - 162s 474ms/step - loss: 1.1781 - accuracy: 0.7872 - val_loss: 0.4448 - val_accuracy: 0.8139\n",
      "Epoch 6/20\n",
      "341/341 [==============================] - 160s 467ms/step - loss: 1.1470 - accuracy: 0.7956 - val_loss: 0.4116 - val_accuracy: 0.8371\n",
      "Epoch 7/20\n",
      "341/341 [==============================] - 163s 478ms/step - loss: 1.1626 - accuracy: 0.7880 - val_loss: 0.4334 - val_accuracy: 0.8202\n",
      "Epoch 8/20\n",
      "341/341 [==============================] - 165s 482ms/step - loss: 1.1523 - accuracy: 0.7903 - val_loss: 0.4258 - val_accuracy: 0.8349\n",
      "Epoch 9/20\n",
      "341/341 [==============================] - 163s 478ms/step - loss: 1.1514 - accuracy: 0.7944 - val_loss: 0.4349 - val_accuracy: 0.8246\n",
      "Epoch 10/20\n",
      "341/341 [==============================] - 163s 478ms/step - loss: 1.1505 - accuracy: 0.7931 - val_loss: 0.4288 - val_accuracy: 0.8231\n",
      "Epoch 11/20\n",
      "341/341 [==============================] - 164s 480ms/step - loss: 1.1405 - accuracy: 0.7936 - val_loss: 0.4259 - val_accuracy: 0.8316\n",
      "Epoch 12/20\n",
      "341/341 [==============================] - 163s 477ms/step - loss: 1.1571 - accuracy: 0.7935 - val_loss: 0.4202 - val_accuracy: 0.8239\n",
      "Epoch 13/20\n",
      "341/341 [==============================] - 162s 473ms/step - loss: 1.1577 - accuracy: 0.7919 - val_loss: 0.4345 - val_accuracy: 0.8312\n",
      "Epoch 14/20\n",
      "341/341 [==============================] - 163s 478ms/step - loss: 1.1472 - accuracy: 0.7925 - val_loss: 0.4321 - val_accuracy: 0.8301\n",
      "Epoch 15/20\n",
      "341/341 [==============================] - 161s 473ms/step - loss: 1.1344 - accuracy: 0.7956 - val_loss: 0.4500 - val_accuracy: 0.8242\n",
      "Epoch 16/20\n",
      "341/341 [==============================] - 161s 472ms/step - loss: 1.1302 - accuracy: 0.8009 - val_loss: 0.4465 - val_accuracy: 0.8239\n",
      "Epoch 17/20\n",
      "341/341 [==============================] - 162s 475ms/step - loss: 1.1511 - accuracy: 0.7935 - val_loss: 0.4252 - val_accuracy: 0.8374\n",
      "Epoch 18/20\n",
      "341/341 [==============================] - 162s 475ms/step - loss: 1.1382 - accuracy: 0.7973 - val_loss: 0.4183 - val_accuracy: 0.8352\n",
      "Epoch 19/20\n",
      "341/341 [==============================] - 164s 479ms/step - loss: 1.1408 - accuracy: 0.7933 - val_loss: 0.4253 - val_accuracy: 0.8312\n",
      "Epoch 20/20\n",
      "341/341 [==============================] - 162s 474ms/step - loss: 1.1254 - accuracy: 0.7978 - val_loss: 0.4117 - val_accuracy: 0.8268\n"
     ]
    }
   ],
   "source": [
    "# train up the top layer first\n",
    "for layer in base_model_1.layers:\n",
    "    layer.trainable = False\n",
    "\n",
    "optimizer = keras.optimizers.Adam(learning_rate=0.01, decay=0.01)\n",
    "model_1.compile(loss=\"categorical_crossentropy\", optimizer=optimizer,\n",
    "                metrics=[\"accuracy\"])\n",
    "history = model_1.fit(train_ds,\n",
    "                      validation_data=validation_ds,\n",
    "                      class_weight=class_weights,\n",
    "                      epochs=20)"
   ]
  },
  {
   "cell_type": "code",
   "execution_count": 21,
   "metadata": {},
   "outputs": [
    {
     "name": "stdout",
     "output_type": "stream",
     "text": [
      "Epoch 1/5\n",
      "341/341 [==============================] - 165s 481ms/step - loss: 2.6075 - accuracy: 0.7492 - val_loss: 0.5506 - val_accuracy: 0.7677\n",
      "Epoch 2/5\n",
      "341/341 [==============================] - 163s 479ms/step - loss: 1.2859 - accuracy: 0.7717 - val_loss: 0.4337 - val_accuracy: 0.8073\n",
      "Epoch 3/5\n",
      "341/341 [==============================] - 162s 473ms/step - loss: 1.1781 - accuracy: 0.7860 - val_loss: 0.4951 - val_accuracy: 0.8092\n",
      "Epoch 4/5\n",
      "341/341 [==============================] - 162s 474ms/step - loss: 1.1658 - accuracy: 0.7948 - val_loss: 0.4248 - val_accuracy: 0.8411\n",
      "Epoch 5/5\n",
      "341/341 [==============================] - 161s 471ms/step - loss: 1.1645 - accuracy: 0.7918 - val_loss: 0.4582 - val_accuracy: 0.8206\n"
     ]
    }
   ],
   "source": [
    "optimizer = keras.optimizers.SGD(learning_rate=0.05, momentum=0.9, decay=0.01)\n",
    "model_1.compile(loss=\"categorical_crossentropy\", optimizer=optimizer,\n",
    "                metrics=[\"accuracy\"])\n",
    "history = model_1.fit(train_ds,\n",
    "                      validation_data=validation_ds, \n",
    "                      class_weight=class_weights,\n",
    "                      epochs=5)"
   ]
  },
  {
   "cell_type": "code",
   "execution_count": 22,
   "metadata": {},
   "outputs": [
    {
     "name": "stdout",
     "output_type": "stream",
     "text": [
      "Epoch 1/10\n",
      "341/341 [==============================] - 335s 965ms/step - loss: 1.9651 - accuracy: 0.6696 - val_loss: 30483794.0000 - val_accuracy: 0.0888\n",
      "Epoch 2/10\n",
      "341/341 [==============================] - 325s 951ms/step - loss: 1.6745 - accuracy: 0.6879 - val_loss: 0.7216 - val_accuracy: 0.7251\n",
      "Epoch 3/10\n",
      "341/341 [==============================] - 325s 953ms/step - loss: 1.5647 - accuracy: 0.7001 - val_loss: 0.5922 - val_accuracy: 0.7457\n",
      "Epoch 4/10\n",
      "341/341 [==============================] - 325s 952ms/step - loss: 1.5175 - accuracy: 0.7110 - val_loss: 3.5310 - val_accuracy: 0.7200\n",
      "Epoch 5/10\n",
      "341/341 [==============================] - 324s 950ms/step - loss: 1.4734 - accuracy: 0.7157 - val_loss: 53114176.0000 - val_accuracy: 0.6877\n",
      "Epoch 6/10\n",
      "341/341 [==============================] - 324s 950ms/step - loss: 1.4499 - accuracy: 0.7207 - val_loss: 6.7068 - val_accuracy: 0.6723\n",
      "Epoch 7/10\n",
      "341/341 [==============================] - 324s 950ms/step - loss: 1.4254 - accuracy: 0.7284 - val_loss: 0.6284 - val_accuracy: 0.7567\n",
      "Epoch 8/10\n",
      "341/341 [==============================] - 324s 949ms/step - loss: 1.3739 - accuracy: 0.7324 - val_loss: 0.5594 - val_accuracy: 0.7754\n",
      "Epoch 9/10\n",
      "341/341 [==============================] - 323s 947ms/step - loss: 1.3360 - accuracy: 0.7450 - val_loss: 464316576.0000 - val_accuracy: 0.6727\n",
      "Epoch 10/10\n",
      "341/341 [==============================] - 323s 945ms/step - loss: 1.3260 - accuracy: 0.7461 - val_loss: 71238280.0000 - val_accuracy: 0.6749\n"
     ]
    }
   ],
   "source": [
    "# train all the layers together for a bit with a lower learning rate\n",
    "for layer in base_model_1.layers[-20:]:\n",
    "    if not isinstance(layer, tf.keras.layers.BatchNormalization):\n",
    "        layer.trainable = True\n",
    "\n",
    "optimizer = keras.optimizers.Adam(learning_rate=0.005, decay=0.001)\n",
    "model_1.compile(loss=\"categorical_crossentropy\", optimizer=optimizer,\n",
    "                metrics=[\"accuracy\"])\n",
    "history = model_1.fit(train_ds,\n",
    "                      validation_data=validation_ds,\n",
    "                      class_weight=class_weights,\n",
    "                      epochs=10)"
   ]
  },
  {
   "cell_type": "code",
   "execution_count": 23,
   "metadata": {},
   "outputs": [
    {
     "name": "stderr",
     "output_type": "stream",
     "text": [
      "2022-04-30 18:08:13.012442: W tensorflow/python/util/util.cc:368] Sets are not currently considered sequences, but this may change in the future, so consider avoiding using them.\n"
     ]
    },
    {
     "name": "stdout",
     "output_type": "stream",
     "text": [
      "INFO:tensorflow:Assets written to: saved_models/model_VGG_v2/assets\n"
     ]
    }
   ],
   "source": [
    "# save the model\n",
    "model_1.save('saved_models/model_VGG_v2') "
   ]
  },
  {
   "cell_type": "markdown",
   "metadata": {},
   "source": [
    "## Evaluation"
   ]
  },
  {
   "cell_type": "code",
   "execution_count": 45,
   "metadata": {},
   "outputs": [],
   "source": [
    "predictions_1 = model_1.predict(test_ds)"
   ]
  },
  {
   "cell_type": "code",
   "execution_count": 46,
   "metadata": {},
   "outputs": [
    {
     "data": {
      "text/plain": [
       "array([[0.0000000e+00, 1.0000000e+00, 0.0000000e+00],\n",
       "       [1.0000000e+00, 5.2729810e-11, 0.0000000e+00],\n",
       "       [3.6904792e-21, 1.0000000e+00, 0.0000000e+00],\n",
       "       ...,\n",
       "       [1.0000000e+00, 0.0000000e+00, 0.0000000e+00],\n",
       "       [1.8752337e-10, 1.0000000e+00, 0.0000000e+00],\n",
       "       [1.2957605e-38, 1.0000000e+00, 0.0000000e+00]], dtype=float32)"
      ]
     },
     "execution_count": 46,
     "metadata": {},
     "output_type": "execute_result"
    }
   ],
   "source": [
    "predictions_1"
   ]
  },
  {
   "cell_type": "code",
   "execution_count": 47,
   "metadata": {},
   "outputs": [
    {
     "data": {
      "text/plain": [
       "array([ 724.8514  , 1957.5594  ,   43.588757], dtype=float32)"
      ]
     },
     "execution_count": 47,
     "metadata": {},
     "output_type": "execute_result"
    }
   ],
   "source": [
    "np.sum(predictions_1, axis=0)"
   ]
  },
  {
   "cell_type": "code",
   "execution_count": 78,
   "metadata": {},
   "outputs": [],
   "source": [
    "thresh_range = [(x/10000) for x in range(0,10000)]\n",
    "\n",
    "def pr_curve(predictions, labels, save_path=None, save_period=None):\n",
    "    # for each threshold value calculate precision and recal\n",
    "    results = pd.DataFrame(columns=['threshold', 'accuracy', 'precision', 'recall', 'sensativity', 'F1-score'])\n",
    "    for i, t in enumerate(thresh_range):\n",
    "        th, ac, pr, rc, sen, f1 = calc_prec_recall(t,predictions, labels)\n",
    "        results = pd.concat([results,pd.DataFrame.from_dict({'threshold': [th],'accuracy': [ac],'precision': [pr],'recall': [rc], 'sensativity': [sen], 'F1-score': [f1]})])\n",
    "        if(save_period is not None and i%save_period == 0): # saves periodically\n",
    "            results.to_csv(save_path, index=False)\n",
    "            \n",
    "    if(save_path is not None): # save at the end\n",
    "        results.to_csv(save_path, index=False)\n",
    "    return(results)\n",
    "    \n",
    "\n",
    "def building_blocks(threshold_value, predictions, labels):\n",
    "    # for this function we will consolidate classes\n",
    "    # we only want to compare the target class to the non-target class\n",
    "    # Covid_img is our target class (true values) and  Normal_img  Viral_img are our other classes (false values)\n",
    "    # class 0 indicates Covid   \n",
    "    pos = 0\n",
    "    neg = 0\n",
    "    tp = 0 # true positive\n",
    "    fp = 0 # false positive\n",
    "    tn = 0 # true negative\n",
    "    fn = 0 # false negative\n",
    "    for i, p in enumerate(predictions):\n",
    "        if p[0] > threshold_value: # positive\n",
    "            if labels[i] == 0: # positive\n",
    "                pos += 1\n",
    "                tp += 1\n",
    "            else: # negative\n",
    "                neg += 1\n",
    "                fp += 1\n",
    "        else: # negative\n",
    "            if labels[i] == 0: # positive\n",
    "                pos += 1\n",
    "                fn += 1\n",
    "            else: # negative\n",
    "                neg += 1\n",
    "                tn += 1\n",
    "\n",
    "    return(threshold_value, tp, fp, tn, fn, pos, neg)\n",
    "\n",
    "def calc_prec_recall(threshold_value ,predictions, labels):\n",
    "    threshold, tp, fp, tn, fn, p, n = building_blocks(threshold_value, predictions, labels)\n",
    "    \n",
    "    # accuracy\n",
    "    accuracy = (tp + tn) / (tp + tn +fp + fn)\n",
    "    \n",
    "    # precision\n",
    "    precision = tp/(tp + fp + 0.000000000001)\n",
    "    \n",
    "    # recall aka sensativity\n",
    "    recall = tp/p\n",
    "    \n",
    "    # specificity\n",
    "    specificity = tn/n\n",
    "    \n",
    "    # f1-score\n",
    "    f1 = 2* (precision * recall) / (precision + recall)\n",
    "    \n",
    "    return(threshold, accuracy, precision, recall, specificity, f1)\n",
    "\n",
    "def adj_class(arr, threshold):\n",
    "    new_pred = []\n",
    "    for a in arr:\n",
    "        if(a[0]>threshold):\n",
    "            new_pred = np.append(new_pred,0)\n",
    "        else:\n",
    "            new_pred = np.append(new_pred,np.argmax(a))\n",
    "    return(new_pred)"
   ]
  },
  {
   "cell_type": "code",
   "execution_count": 44,
   "metadata": {},
   "outputs": [
    {
     "name": "stdout",
     "output_type": "stream",
     "text": [
      "Found 13633 files belonging to 3 classes.\n",
      "Using 2726 files for validation.\n"
     ]
    }
   ],
   "source": [
    "test_dir = 'dl_data_2/dl_data/'\n",
    "\n",
    "# Test Dataset\n",
    "test_ds = tf.keras.preprocessing.image_dataset_from_directory(\n",
    "    test_dir,\n",
    "    validation_split = 0.2,\n",
    "    subset = \"validation\",\n",
    "    seed = 40,\n",
    "    image_size= (img_height, img_width),\n",
    "    batch_size = batch_size\n",
    ")"
   ]
  },
  {
   "cell_type": "code",
   "execution_count": 48,
   "metadata": {},
   "outputs": [],
   "source": [
    "# pull in label values\n",
    "y_true = []\n",
    "for img, label in test_ds:\n",
    "    y_true.append(label.numpy())"
   ]
  },
  {
   "cell_type": "code",
   "execution_count": 79,
   "metadata": {},
   "outputs": [
    {
     "data": {
      "text/html": [
       "<div>\n",
       "<style scoped>\n",
       "    .dataframe tbody tr th:only-of-type {\n",
       "        vertical-align: middle;\n",
       "    }\n",
       "\n",
       "    .dataframe tbody tr th {\n",
       "        vertical-align: top;\n",
       "    }\n",
       "\n",
       "    .dataframe thead th {\n",
       "        text-align: right;\n",
       "    }\n",
       "</style>\n",
       "<table border=\"1\" class=\"dataframe\">\n",
       "  <thead>\n",
       "    <tr style=\"text-align: right;\">\n",
       "      <th></th>\n",
       "      <th>threshold</th>\n",
       "      <th>accuracy</th>\n",
       "      <th>precision</th>\n",
       "      <th>recall</th>\n",
       "      <th>sensativity</th>\n",
       "      <th>F1-score</th>\n",
       "    </tr>\n",
       "  </thead>\n",
       "  <tbody>\n",
       "    <tr>\n",
       "      <th>0</th>\n",
       "      <td>0.0088</td>\n",
       "      <td>0.618489</td>\n",
       "      <td>0.239735</td>\n",
       "      <td>0.279753</td>\n",
       "      <td>0.723906</td>\n",
       "      <td>0.258203</td>\n",
       "    </tr>\n",
       "  </tbody>\n",
       "</table>\n",
       "</div>"
      ],
      "text/plain": [
       "  threshold  accuracy precision    recall sensativity  F1-score\n",
       "0    0.0088  0.618489  0.239735  0.279753    0.723906  0.258203"
      ]
     },
     "execution_count": 79,
     "metadata": {},
     "output_type": "execute_result"
    }
   ],
   "source": [
    "results_1 = pr_curve(predictions_1, np.concatenate(y_true), save_path='model_1.csv', save_period=100)\n",
    "test_results = results_1.sort_values(['precision','recall'], ascending=False)\n",
    "test_results.head(1)"
   ]
  },
  {
   "cell_type": "code",
   "execution_count": 63,
   "metadata": {},
   "outputs": [],
   "source": [
    "y_true_adj = [x if x in [0,1] else 1 for x in np.concatenate(y_true)]\n",
    "predictions_1_adj = [x[0] for x in predictions_1] # just the first class"
   ]
  },
  {
   "cell_type": "code",
   "execution_count": 67,
   "metadata": {},
   "outputs": [],
   "source": [
    "# before or after combining predictions, set threshold for predictions and assign to classes based on that threshold\n",
    "threshold_1 = 0.0088 # threshold should be determined on test data not holdout\n",
    "adj_pred_1 = adj_class(predictions_1, threshold_1)"
   ]
  },
  {
   "cell_type": "code",
   "execution_count": 68,
   "metadata": {},
   "outputs": [
    {
     "data": {
      "image/png": "[encoded data removed]",
      "text/plain": [
       "<Figure size 720x576 with 2 Axes>"
      ]
     },
     "metadata": {},
     "output_type": "display_data"
    }
   ],
   "source": [
    "# create and plot confusion matrix\n",
    "confusion_mtx = tf.math.confusion_matrix(np.concatenate(y_true),\n",
    "                                         adj_pred_1,\n",
    "                                         num_classes=3,\n",
    "                                         weights=None)\n",
    "confusion_mtx = confusion_mtx/confusion_mtx.numpy().sum(axis=1)[:, tf.newaxis]\n",
    "plt.figure(figsize=(10, 8))\n",
    "sns.set(font_scale = 1.5)\n",
    "sns.heatmap(confusion_mtx,\n",
    "            xticklabels=class_names,\n",
    "            yticklabels=class_names,\n",
    "            annot=True, fmt='g')\n",
    "plt.xlabel('Prediction')\n",
    "plt.ylabel('Label')\n",
    "plt.savefig('matrix1.png')\n",
    "plt.show()"
   ]
  },
  {
   "cell_type": "code",
   "execution_count": null,
   "metadata": {},
   "outputs": [],
   "source": []
  }
 ],
 "metadata": {
  "kernelspec": {
   "display_name": "Tensorflow 2.8.0/Keras Py3.9",
   "language": "python",
   "name": "tensorflow-2.8.0"
  },
  "language_info": {
   "codemirror_mode": {
    "name": "ipython",
    "version": 3
   },
   "file_extension": ".py",
   "mimetype": "text/x-python",
   "name": "python",
   "nbconvert_exporter": "python",
   "pygments_lexer": "ipython3",
   "version": "3.9.10"
  }
 },
 "nbformat": 4,
 "nbformat_minor": 4
}
