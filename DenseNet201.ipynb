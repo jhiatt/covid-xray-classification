{
 "cells": [
  {
   "cell_type": "code",
   "execution_count": 1,
   "metadata": {},
   "outputs": [],
   "source": [
    "import numpy as np\n",
    "import sys\n",
    "import pandas as pd \n",
    "from keras.layers import Input, Lambda, Dense, Flatten , Dropout , MaxPool2D\n",
    "from keras.models import Model , Sequential\n",
    "import tensorflow as tf\n",
    "from tensorflow.keras.preprocessing import image\n",
    "from keras.preprocessing.image import ImageDataGenerator\n",
    "from glob import glob\n",
    "from tensorflow import keras\n",
    "from tensorflow.keras import layers\n",
    "import matplotlib.pyplot as plt\n",
    "import random\n",
    "import os\n",
    "from distutils.file_util import copy_file\n",
    "import warnings\n",
    "warnings.filterwarnings('ignore')\n",
    "from keras.callbacks import EarlyStopping ,ReduceLROnPlateau"
   ]
  },
  {
   "cell_type": "code",
   "execution_count": 2,
   "metadata": {},
   "outputs": [
    {
     "name": "stdout",
     "output_type": "stream",
     "text": [
      "Found 11449 images belonging to 3 classes.\n"
     ]
    }
   ],
   "source": [
    "batch_size=64\n",
    "\n",
    "train_data_gen = ImageDataGenerator(rescale=1./255 ,\n",
    "                                    zoom_range=0.3, \n",
    "                                    horizontal_flip=True, \n",
    "                                    shear_range=0.2,\n",
    "                                    rotation_range=30\n",
    "                                    )\n",
    "\n",
    "train = train_data_gen.flow_from_directory(directory='/home/mrk9fx/dl_data/Data/Train',\n",
    "                                           class_mode ='categorical',\n",
    "                                           batch_size=64,\n",
    "                                           target_size=(224,224))  "
   ]
  },
  {
   "cell_type": "code",
   "execution_count": 3,
   "metadata": {},
   "outputs": [
    {
     "name": "stdout",
     "output_type": "stream",
     "text": [
      "Found 2170 images belonging to 3 classes.\n",
      "Found 1535 images belonging to 3 classes.\n"
     ]
    }
   ],
   "source": [
    "test_data_gen = ImageDataGenerator(rescale=1./255 )\n",
    "\n",
    "test = test_data_gen.flow_from_directory(directory='/home/mrk9fx/dl_data/Data/Test', \n",
    "                                         target_size=(224,224), \n",
    "                                         class_mode='categorical',\n",
    "                                         shuffle=False,\n",
    "                                         batch_size=64)\n",
    "\n",
    "valid = test_data_gen.flow_from_directory(directory='/home/mrk9fx/dl_data/Data/Valid', \n",
    "                                          target_size=(224,224), \n",
    "                                          class_mode = 'categorical',\n",
    "                                          shuffle=False,\n",
    "                                          batch_size=64)"
   ]
  },
  {
   "cell_type": "code",
   "execution_count": null,
   "metadata": {},
   "outputs": [],
   "source": []
  },
  {
   "cell_type": "code",
   "execution_count": 4,
   "metadata": {},
   "outputs": [],
   "source": [
    "from tensorflow import keras\n",
    "#model = tf.keras.applications.DenseNet121(include_top = False,\n",
    "    #                                       weights = 'imagenet',\n",
    "    #                                       input_shape = (224,224,3), )\n",
    "model = tf.keras.applications.DenseNet201(include_top = False,\n",
    "                                           weights = 'imagenet',\n",
    "                                           input_shape = (224,224,3), )"
   ]
  },
  {
   "cell_type": "code",
   "execution_count": 5,
   "metadata": {},
   "outputs": [],
   "source": [
    "#for layer in inc.layers:           \n",
    " # layer.trainable = False"
   ]
  },
  {
   "cell_type": "code",
   "execution_count": 6,
   "metadata": {},
   "outputs": [],
   "source": [
    "#Definition of the Keras model outputs\n",
    "\n",
    "#x = Flatten()(inc.output)\n",
    "#prediction= Dense(units=1, activation='sigmoid')(x)\n",
    "\n",
    "#model = Model(inc.input,prediction)\n",
    "\n",
    "\n",
    "n_classes = 3\n",
    "\n",
    "callback = tf.keras.callbacks.EarlyStopping(monitor='loss', patience=5)\n",
    "\n",
    "# Rebuild top\n",
    "x = tf.keras.layers.GlobalAveragePooling2D(name=\"avg_pool\")(model.output)\n",
    "x = tf.keras.layers.BatchNormalization()(x)\n",
    "\n",
    "top_dropout_rate = 0.2\n",
    "x = tf.keras.layers.Dropout(top_dropout_rate, name=\"top_dropout\")(x)\n",
    "# x = tf.keras.layers.Flatten()(x)\n",
    "outputs = tf.keras.layers.Dense(3, activation=\"softmax\", name=\"pred\")(x) # match number of classes\n",
    "\n",
    "model_2 = keras.models.Model(inputs=model.input,\n",
    "                           outputs=outputs)\n",
    "\n",
    "#model.add(tf.keras.layers.Dense(3, activation='softmax', name='pred'))\n"
   ]
  },
  {
   "cell_type": "code",
   "execution_count": 7,
   "metadata": {},
   "outputs": [],
   "source": [
    "#Compile model\n",
    "\n",
    "#model_2.compile(\n",
    " #   optimizer = tf.keras.optimizers.Adam(0.001),\n",
    " #   loss = 'binary_crossentropy',\n",
    " #   metrics = ['accuracy'],\n",
    "#)\n",
    "\n",
    "for layer in model_2.layers:\n",
    "    layer.trainable = False\n",
    "\n",
    "recall = tf.keras.metrics.Recall\n",
    "optimizer = tf.keras.optimizers.Adam(learning_rate=0.01, decay=0.01)\n",
    "model_2.compile(optimizer=optimizer,loss=\"categorical_crossentropy\",\n",
    "              metrics=['accuracy'],)"
   ]
  },
  {
   "cell_type": "code",
   "execution_count": 8,
   "metadata": {},
   "outputs": [],
   "source": [
    "early = EarlyStopping(monitor=\"val_accuracy\", mode='min', patience=10)\n",
    "learning_rate_reduction = ReduceLROnPlateau(monitor=\"val_accuracy\", patience=2, verbose=1, factor=0.3, min_lr=0.0001)\n",
    "callbacks_list = [early, learning_rate_reduction]"
   ]
  },
  {
   "cell_type": "code",
   "execution_count": 9,
   "metadata": {},
   "outputs": [
    {
     "name": "stdout",
     "output_type": "stream",
     "text": [
      "{0: 1.3191611936859085, 1: 0.46803204970975393, 2: 9.493366500829188}\n"
     ]
    }
   ],
   "source": [
    "from sklearn.utils.class_weight import compute_class_weight\n",
    "\n",
    "weights = compute_class_weight(class_weight=\"balanced\",\n",
    "                               classes=np.unique(train.classes), \n",
    "                               y=train.classes)\n",
    "cw = dict(zip(np.unique(train.classes), weights))\n",
    "print(cw)"
   ]
  },
  {
   "cell_type": "code",
   "execution_count": 10,
   "metadata": {},
   "outputs": [
    {
     "name": "stdout",
     "output_type": "stream",
     "text": [
      "Epoch 1/10\n",
      "59/59 [==============================] - 258s 4s/step - loss: 1.4794 - accuracy: 0.2055 - val_loss: 1.4057 - val_accuracy: 0.4304 - lr: 0.0100\n",
      "Epoch 2/10\n",
      "59/59 [==============================] - 240s 4s/step - loss: 1.5299 - accuracy: 0.1990 - val_loss: 1.4057 - val_accuracy: 0.4304 - lr: 0.0100\n",
      "Epoch 3/10\n",
      "59/59 [==============================] - ETA: 0s - loss: 1.5742 - accuracy: 0.1905\n",
      "Epoch 3: ReduceLROnPlateau reducing learning rate to 0.0029999999329447745.\n",
      "59/59 [==============================] - 242s 4s/step - loss: 1.5742 - accuracy: 0.1905 - val_loss: 1.4057 - val_accuracy: 0.4304 - lr: 0.0100\n",
      "Epoch 4/10\n",
      "59/59 [==============================] - 246s 4s/step - loss: 1.4875 - accuracy: 0.1888 - val_loss: 1.4057 - val_accuracy: 0.4304 - lr: 0.0030\n",
      "Epoch 5/10\n",
      "59/59 [==============================] - ETA: 0s - loss: 1.5637 - accuracy: 0.1881\n",
      "Epoch 5: ReduceLROnPlateau reducing learning rate to 0.0009000000078231095.\n",
      "59/59 [==============================] - 245s 4s/step - loss: 1.5637 - accuracy: 0.1881 - val_loss: 1.4057 - val_accuracy: 0.4304 - lr: 0.0030\n",
      "Epoch 6/10\n",
      "59/59 [==============================] - 243s 4s/step - loss: 1.5202 - accuracy: 0.1862 - val_loss: 1.4057 - val_accuracy: 0.4304 - lr: 9.0000e-04\n",
      "Epoch 7/10\n",
      "59/59 [==============================] - ETA: 0s - loss: 1.4750 - accuracy: 0.2034\n",
      "Epoch 7: ReduceLROnPlateau reducing learning rate to 0.00026999999536201356.\n",
      "59/59 [==============================] - 244s 4s/step - loss: 1.4750 - accuracy: 0.2034 - val_loss: 1.4057 - val_accuracy: 0.4304 - lr: 9.0000e-04\n",
      "Epoch 8/10\n",
      "59/59 [==============================] - 245s 4s/step - loss: 1.5344 - accuracy: 0.1923 - val_loss: 1.4057 - val_accuracy: 0.4304 - lr: 2.7000e-04\n",
      "Epoch 9/10\n",
      "59/59 [==============================] - ETA: 0s - loss: 1.4664 - accuracy: 0.2010\n",
      "Epoch 9: ReduceLROnPlateau reducing learning rate to 0.0001.\n",
      "59/59 [==============================] - 244s 4s/step - loss: 1.4664 - accuracy: 0.2010 - val_loss: 1.4057 - val_accuracy: 0.4304 - lr: 2.7000e-04\n",
      "Epoch 10/10\n",
      "59/59 [==============================] - 245s 4s/step - loss: 1.5587 - accuracy: 0.1904 - val_loss: 1.4057 - val_accuracy: 0.4304 - lr: 1.0000e-04\n"
     ]
    }
   ],
   "source": [
    "hist = model_2.fit_generator(train, \n",
    "                 steps_per_epoch=len(train)//3, \n",
    "                 epochs=10,\n",
    "                 validation_data=valid, \n",
    "                 class_weight=cw,\n",
    "                 validation_steps=len(test)//3,\n",
    "                 callbacks=callbacks_list\n",
    "                )"
   ]
  },
  {
   "cell_type": "code",
   "execution_count": 11,
   "metadata": {},
   "outputs": [
    {
     "name": "stdout",
     "output_type": "stream",
     "text": [
      "INFO:tensorflow:Assets written to: model_Dense_2/assets\n"
     ]
    }
   ],
   "source": [
    "model_2.save('model_Dense_2')"
   ]
  },
  {
   "cell_type": "code",
   "execution_count": null,
   "metadata": {},
   "outputs": [],
   "source": []
  }
 ],
 "metadata": {
  "kernelspec": {
   "display_name": "Python 3",
   "language": "python",
   "name": "python3"
  },
  "language_info": {
   "codemirror_mode": {
    "name": "ipython",
    "version": 3
   },
   "file_extension": ".py",
   "mimetype": "text/x-python",
   "name": "python",
   "nbconvert_exporter": "python",
   "pygments_lexer": "ipython3",
   "version": "3.8.8"
  }
 },
 "nbformat": 4,
 "nbformat_minor": 4
}
